{
 "cells": [
  {
   "cell_type": "code",
   "execution_count": 2,
   "id": "03699ff8",
   "metadata": {},
   "outputs": [],
   "source": [
    "# Ten cuidado en hacer esto público, te pueden robar. \n",
    "weather_api_key=\"c334a28706460f469f090fde04b34da0\""
   ]
  }
 ],
 "metadata": {
  "kernelspec": {
   "display_name": "PythonData",
   "language": "python",
   "name": "pythondata"
  },
  "language_info": {
   "codemirror_mode": {
    "name": "ipython",
    "version": 3
   },
   "file_extension": ".py",
   "mimetype": "text/x-python",
   "name": "python",
   "nbconvert_exporter": "python",
   "pygments_lexer": "ipython3",
   "version": "3.9.5"
  }
 },
 "nbformat": 4,
 "nbformat_minor": 5
}
